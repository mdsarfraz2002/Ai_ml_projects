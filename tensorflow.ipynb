{
  "nbformat": 4,
  "nbformat_minor": 0,
  "metadata": {
    "colab": {
      "provenance": [],
      "authorship_tag": "ABX9TyMaHgmoVlize7meZiOrhrxo",
      "include_colab_link": true
    },
    "kernelspec": {
      "name": "python3",
      "display_name": "Python 3"
    },
    "language_info": {
      "name": "python"
    }
  },
  "cells": [
    {
      "cell_type": "markdown",
      "metadata": {
        "id": "view-in-github",
        "colab_type": "text"
      },
      "source": [
        "<a href=\"https://colab.research.google.com/github/mdsarfraz2002/Ai_ml_projects/blob/main/tensorflow.ipynb\" target=\"_parent\"><img src=\"https://colab.research.google.com/assets/colab-badge.svg\" alt=\"Open In Colab\"/></a>"
      ]
    },
    {
      "cell_type": "markdown",
      "source": [
        "The framework for defining a neural network as a set of sequential layers is called keras, so import that, too."
      ],
      "metadata": {
        "id": "75V-56cqbk-D"
      }
    },
    {
      "cell_type": "code",
      "execution_count": 4,
      "metadata": {
        "id": "UL4893h7a8f3"
      },
      "outputs": [],
      "source": [
        "import tensorflow as tf\n",
        "import numpy as np\n",
        "from tensorflow import keras "
      ]
    },
    {
      "cell_type": "markdown",
      "source": [
        "Next, create the simplest possible neural network. It has one layer, that layer has one neuron, and the input shape to it is only one value."
      ],
      "metadata": {
        "id": "gZcnu81NbpJN"
      }
    },
    {
      "cell_type": "code",
      "source": [
        "model = tf.keras.Sequential([keras.layers.Dense(units=1, input_shape=[1])])"
      ],
      "metadata": {
        "id": "9gKwqkLnbXTU"
      },
      "execution_count": 3,
      "outputs": []
    },
    {
      "cell_type": "markdown",
      "source": [
        "for measure of loss and optimising it"
      ],
      "metadata": {
        "id": "P9J3Q4m6bxYl"
      }
    },
    {
      "cell_type": "code",
      "source": [
        "model.compile(optimizer='sgd', loss='mean_squared_error')"
      ],
      "metadata": {
        "id": "VsSZOb7HbxvH"
      },
      "execution_count": 5,
      "outputs": []
    },
    {
      "cell_type": "markdown",
      "source": [
        "providing the data"
      ],
      "metadata": {
        "id": "L9sQ8At0cK8I"
      }
    },
    {
      "cell_type": "code",
      "source": [
        "xs = np.array([-1.0, 0.0, 1.0, 2.0, 3.0, 4.0], dtype=float)\n",
        "ys = np.array([-2.0, 1.0, 4.0, 7.0, 10.0, 13.0], dtype=float)"
      ],
      "metadata": {
        "id": "K0iqu15icLES"
      },
      "execution_count": 6,
      "outputs": []
    },
    {
      "cell_type": "markdown",
      "source": [
        "train the neural network"
      ],
      "metadata": {
        "id": "jY2XrDHRcfoD"
      }
    },
    {
      "cell_type": "code",
      "source": [
        "model.fit(xs, ys, epochs=500)"
      ],
      "metadata": {
        "id": "WXl-BJ_-cfvX"
      },
      "execution_count": null,
      "outputs": []
    },
    {
      "cell_type": "markdown",
      "source": [
        "use the **model**"
      ],
      "metadata": {
        "id": "faYGrUWGctpq"
      }
    },
    {
      "cell_type": "code",
      "source": [
        "print(model.predict([11.0]))"
      ],
      "metadata": {
        "colab": {
          "base_uri": "https://localhost:8080/"
        },
        "id": "nzcxoIB1csXE",
        "outputId": "3425df47-9a11-4c00-8838-380f35d84012"
      },
      "execution_count": 9,
      "outputs": [
        {
          "output_type": "stream",
          "name": "stdout",
          "text": [
            "1/1 [==============================] - 0s 24ms/step\n",
            "[[33.9945]]\n"
          ]
        }
      ]
    }
  ]
}